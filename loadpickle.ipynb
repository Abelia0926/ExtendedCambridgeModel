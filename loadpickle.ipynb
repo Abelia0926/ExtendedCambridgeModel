{
 "cells": [
  {
   "cell_type": "code",
   "execution_count": 6,
   "id": "98bd3f7f",
   "metadata": {},
   "outputs": [
    {
     "name": "stdout",
     "output_type": "stream",
     "text": [
      "Loading pickle file...\n",
      "<pymgipsim.VirtualPatient.Models.T1DM.ExtHovorka.Model.Model object at 0x116192990>\n",
      "['EGP_insulin_effect', 'F01_effect', 'Physact_effect', 'RENAL_effect', '__abstractmethods__', '__annotations__', '__class__', '__delattr__', '__dict__', '__dir__', '__doc__', '__eq__', '__firstlineno__', '__format__', '__ge__', '__getattribute__', '__getstate__', '__gt__', '__hash__', '__init__', '__init_subclass__', '__le__', '__lt__', '__module__', '__ne__', '__new__', '__reduce__', '__reduce_ex__', '__repr__', '__setattr__', '__sizeof__', '__slots__', '__static_attributes__', '__str__', '__subclasshook__', '__weakref__', '_abc_impl', 'from_scenario', 'get_basal_equilibrium', 'glucose', 'glucose_state', 'initial_conditions', 'inputs', 'insulin', 'metric', 'model', 'name', 'output_equilibrium', 'output_state', 'parameters', 'preprocessing', 'rate_equations', 'sampling_time', 'states', 'time', 'update_scenario']\n"
     ]
    }
   ],
   "source": [
    "import pickle\n",
    "print(\"Loading pickle file...\")\n",
    "# Replace 'your_file.pkl' with the path to your pickle file\n",
    "with open('./SimulationResults/Simulation 05_14_2025_12_33_26/model.pkl', 'rb') as f:\n",
    "    data = pickle.load(f)\n",
    "\n",
    "# Display the loaded data\n",
    "print(data)\n",
    "print(dir(data))\n"
   ]
  },
  {
   "cell_type": "code",
   "execution_count": 24,
   "id": "763a0d2a",
   "metadata": {},
   "outputs": [
    {
     "data": {
      "text/plain": [
       "True"
      ]
     },
     "execution_count": 24,
     "metadata": {},
     "output_type": "execute_result"
    }
   ],
   "source": [
    "data.F01_effect \n"
   ]
  },
  {
   "cell_type": "code",
   "execution_count": null,
   "id": "a34d289b",
   "metadata": {},
   "outputs": [],
   "source": []
  }
 ],
 "metadata": {
  "kernelspec": {
   "display_name": "Python 3",
   "language": "python",
   "name": "python3"
  },
  "language_info": {
   "codemirror_mode": {
    "name": "ipython",
    "version": 3
   },
   "file_extension": ".py",
   "mimetype": "text/x-python",
   "name": "python",
   "nbconvert_exporter": "python",
   "pygments_lexer": "ipython3",
   "version": "3.13.0"
  }
 },
 "nbformat": 4,
 "nbformat_minor": 5
}
